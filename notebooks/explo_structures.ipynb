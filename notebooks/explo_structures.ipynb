{
 "cells": [
  {
   "cell_type": "code",
   "execution_count": 1,
   "metadata": {},
   "outputs": [],
   "source": [
    "import pandas as pd\n",
    "structures = pd.read_csv('https://data.economie.gouv.fr/explore/dataset/coordonnees-des-structures-dgfip/download/?format=csv&timezone=Europe/Berlin&lang=fr&use_labels_for_header=true&csv_separator=%3B',sep=\";\")"
   ]
  },
  {
   "cell_type": "markdown",
   "metadata": {},
   "source": [
    "# Variables disponibles"
   ]
  },
  {
   "cell_type": "code",
   "execution_count": 4,
   "metadata": {},
   "outputs": [
    {
     "data": {
      "text/plain": [
       "Index(['Nomenclature interne', 'TYPE DE SERVICE', 'LIBELLE DU SERVICE',\n",
       "       'NOM DU SERVICE', 'DEPARTEMENT', 'ADRESSE', 'BP', 'CODE POSTAL',\n",
       "       'COMMUNE', 'CODE COMMUNE', 'COURRIEL', 'HORAIRES 1', 'ACCUEIL SUR RDV',\n",
       "       'geocodage', 'Type de démarche', 'TELEPHONE 1', 'TELEPHONE 2',\n",
       "       'Nom Officiel Département', 'Code Officiel Région',\n",
       "       'Nom Officiel Région', 'public', 'service', 'Code Courant Officiel',\n",
       "       'Nom Officiel Commune', 'dep_code_de_geocodage'],\n",
       "      dtype='object')"
      ]
     },
     "execution_count": 4,
     "metadata": {},
     "output_type": "execute_result"
    }
   ],
   "source": [
    "structures.columns"
   ]
  },
  {
   "cell_type": "code",
   "execution_count": 30,
   "metadata": {},
   "outputs": [
    {
     "data": {
      "text/plain": [
       "<AxesSubplot:>"
      ]
     },
     "execution_count": 30,
     "metadata": {},
     "output_type": "execute_result"
    },
    {
     "data": {
      "image/png": "[encoded data removed]",
      "text/plain": [
       "<Figure size 720x360 with 1 Axes>"
      ]
     },
     "metadata": {
      "needs_background": "light"
     },
     "output_type": "display_data"
    }
   ],
   "source": [
    "structures['TYPE DE SERVICE'].hist(figsize=(10,5))"
   ]
  },
  {
   "cell_type": "code",
   "execution_count": 50,
   "metadata": {},
   "outputs": [
    {
     "data": {
      "text/plain": [
       "array(['Centre de Finances publiques', 'Permanences finances publiques',\n",
       "       'Buralistes', 'France Services'], dtype=object)"
      ]
     },
     "execution_count": 50,
     "metadata": {},
     "output_type": "execute_result"
    }
   ],
   "source": [
    "structures['TYPE DE SERVICE'].unique()"
   ]
  },
  {
   "cell_type": "code",
   "execution_count": 55,
   "metadata": {},
   "outputs": [],
   "source": [
    "bret = structures[structures.public.str.contains('particuliers', na=False) & structures.DEPARTEMENT.str.slice(0,2).isin({'29','35','56'}) & (structures['TYPE DE SERVICE'] == \"Centre de Finances publiques\")]"
   ]
  },
  {
   "cell_type": "code",
   "execution_count": 68,
   "metadata": {},
   "outputs": [
    {
     "data": {
      "text/plain": [
       "[(' Effectuer une démarche,', 60),\n",
       " (' Obtenir un renseignement sur mes impôts et factures,', 58),\n",
       " (' Payer mes factures locales,', 43),\n",
       " ('(les questions portant sur le montant à payer relèvent des collectivités)',\n",
       "  43),\n",
       " (' Payer mes impôts.', 17),\n",
       " (' Payer mes factures hospitalières', 5),\n",
       " (\"(les questions portant sur le montant à payer relèvent de l'hôpital concerné)\",\n",
       "  5),\n",
       " (' Obtenir un renseignement sur les impôts de mon entreprise, sur mes impôts et factures',\n",
       "  2),\n",
       " (' Effectuer une démarche', 2),\n",
       " (' Payer les impôts et taxes de mon entreprise ', 2)]"
      ]
     },
     "execution_count": 68,
     "metadata": {},
     "output_type": "execute_result"
    }
   ],
   "source": [
    "from collections import Counter\n",
    "ct = Counter()\n",
    "for demarches in bret['Type de démarche']:\n",
    "    ct.update(demarches.replace(\">\",\"\").split('\\n'))\n",
    "ct.most_common()"
   ]
  }
 ],
 "metadata": {
  "interpreter": {
   "hash": "edad1f8350f7e9423b818410cd981808cf9ee895c218c3dca2beadbf9a9e03b9"
  },
  "kernelspec": {
   "display_name": "Python 3.10.4 ('.venv': poetry)",
   "language": "python",
   "name": "python3"
  },
  "language_info": {
   "codemirror_mode": {
    "name": "ipython",
    "version": 3
   },
   "file_extension": ".py",
   "mimetype": "text/x-python",
   "name": "python",
   "nbconvert_exporter": "python",
   "pygments_lexer": "ipython3",
   "version": "3.10.4"
  },
  "orig_nbformat": 4
 },
 "nbformat": 4,
 "nbformat_minor": 2
}
